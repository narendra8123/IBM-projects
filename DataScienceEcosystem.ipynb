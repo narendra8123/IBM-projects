{
 "cells": [
  {
   "cell_type": "markdown",
   "id": "02ca8a7b-a6ae-4ae9-b5fc-a1e2cbb845e7",
   "metadata": {},
   "source": [
    "# Data Science Tools Ecosystem"
   ]
  },
  {
   "cell_type": "markdown",
   "id": "b4c6301a-8892-4f6e-b586-67d76f11a3c2",
   "metadata": {},
   "source": [
    "In this notebook, Data Science Tools and Ecosystem are summarized."
   ]
  },
  {
   "cell_type": "markdown",
   "id": "f24dd7c9-a8c0-4a34-af3f-487c4109c87e",
   "metadata": {},
   "source": [
    "Some of the popular languages that Data Scientists use are:\n",
    "1. Python\n",
    "2. R\n",
    "3. Java"
   ]
  },
  {
   "cell_type": "markdown",
   "id": "86aad74e-de9e-43ef-9ea2-3042fb818d70",
   "metadata": {},
   "source": [
    "Some of the commanly used libraries used by Data Scientists include:\n",
    "1. Pandas\n",
    "2. Numpy\n",
    "3. Matplotlib\n",
    "4. Seaborn\n",
    "5. Keras"
   ]
  },
  {
   "cell_type": "markdown",
   "id": "83812f4e-7170-45dc-a1d3-9f041c9e044a",
   "metadata": {},
   "source": [
    "|Data Science Tools|Use|\n",
    "|--------|--------|\n",
    "|Jupyter|Developing code|\n",
    "|Git|Collaboration|\n",
    "|R|Visualization|"
   ]
  },
  {
   "cell_type": "markdown",
   "id": "5279c4ef-eaa4-47f8-972c-3471ab785e1d",
   "metadata": {},
   "source": [
    "### Below are a few examples of evaluating arthemetic expression in Python"
   ]
  },
  {
   "cell_type": "code",
   "execution_count": 4,
   "id": "660b88d9-5822-4996-82b8-9b2e968a7637",
   "metadata": {},
   "outputs": [],
   "source": [
    "# This is a simple arithemetic expression to multiply then add integers"
   ]
  },
  {
   "cell_type": "code",
   "execution_count": 5,
   "id": "1351dbdb-1c92-4b9c-bbc9-ac7a121b3714",
   "metadata": {},
   "outputs": [],
   "source": [
    "a=3\n",
    "b=4\n",
    "c=5"
   ]
  },
  {
   "cell_type": "code",
   "execution_count": 6,
   "id": "fc53cf10-b022-413b-b87d-de1e7f12c0d8",
   "metadata": {},
   "outputs": [],
   "source": [
    "d=(a*b)+5"
   ]
  },
  {
   "cell_type": "code",
   "execution_count": 7,
   "id": "e0ffa042-74a6-4d4c-949f-29623d8a4c7d",
   "metadata": {},
   "outputs": [
    {
     "name": "stdout",
     "output_type": "stream",
     "text": [
      "17\n"
     ]
    }
   ],
   "source": [
    "print(d)"
   ]
  },
  {
   "cell_type": "code",
   "execution_count": 17,
   "id": "2659ac18-d2eb-479d-8509-503a57c45b0e",
   "metadata": {},
   "outputs": [],
   "source": [
    "# This will convert 200 minutes to hours by dividing by 60"
   ]
  },
  {
   "cell_type": "code",
   "execution_count": 18,
   "id": "8c72da7d-e871-4ef0-ae11-eeed9947b5c5",
   "metadata": {},
   "outputs": [
    {
     "name": "stdin",
     "output_type": "stream",
     "text": [
      "enter the number of minutes:  200\n"
     ]
    },
    {
     "name": "stdout",
     "output_type": "stream",
     "text": [
      "200minutes is equal to 3hours and 20minutes.\n"
     ]
    }
   ],
   "source": [
    "minutes = int(input(\"enter the number of minutes: \"))\n",
    "hours,remaing_minutes = divmod(minutes,60)\n",
    "print(f\"{minutes}minutes is equal to {hours}hours and {remaing_minutes}minutes.\")"
   ]
  },
  {
   "cell_type": "markdown",
   "id": "ce218ae2-de75-4fd3-847a-3029d0dc48b7",
   "metadata": {},
   "source": [
    "**Objectives**"
   ]
  },
  {
   "cell_type": "markdown",
   "id": "8352a057-4eec-4128-8926-8eb3ca34c6c3",
   "metadata": {},
   "source": [
    "###### Popular languages for Data Science\n",
    "* Python\n",
    "* R\n",
    "* Java\n",
    "* My SQL\n",
    "* Juputer lab\n"
   ]
  },
  {
   "cell_type": "markdown",
   "id": "4e15ede7-3ab8-4bbf-9fc5-aa4be600d328",
   "metadata": {},
   "source": [
    "## Author\n",
    " Narendra"
   ]
  }
 ],
 "metadata": {
  "kernelspec": {
   "display_name": "Python 3 (ipykernel)",
   "language": "python",
   "name": "python3"
  },
  "language_info": {
   "codemirror_mode": {
    "name": "ipython",
    "version": 3
   },
   "file_extension": ".py",
   "mimetype": "text/x-python",
   "name": "python",
   "nbconvert_exporter": "python",
   "pygments_lexer": "ipython3",
   "version": "3.12.3"
  }
 },
 "nbformat": 4,
 "nbformat_minor": 5
}
